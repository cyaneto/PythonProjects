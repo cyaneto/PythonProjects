{
 "cells": [
  {
   "cell_type": "markdown",
   "id": "c918ec25",
   "metadata": {},
   "source": [
    "### Funções para física experimental A2\n"
   ]
  },
  {
   "cell_type": "code",
   "execution_count": 2,
   "id": "646a3431",
   "metadata": {
    "ExecuteTime": {
     "end_time": "2021-08-28T14:45:03.927107Z",
     "start_time": "2021-08-28T14:45:03.907287Z"
    }
   },
   "outputs": [],
   "source": [
    "import numpy as np\n",
    "import pandas as pd\n",
    "import seaborn as sns\n",
    "import matplotlib.pyplot as plt\n",
    "import scipy\n",
    "import librosa\n",
    "\n",
    "from scipy.fftpack import fft\n",
    "from scipy.interpolate import interp1d\n",
    "from scipy.stats import linregress\n",
    "from scipy.integrate import odeint\n",
    "from scipy.fft import fft, fftfreq\n",
    "from scipy.signal import chirp, find_peaks, peak_widths, argrelextrema\n",
    "\n",
    "from librosa import display\n",
    "\n",
    "from matplotlib.pyplot import cm"
   ]
  },
  {
   "cell_type": "code",
   "execution_count": 5,
   "id": "9e164ab8",
   "metadata": {
    "ExecuteTime": {
     "end_time": "2021-08-28T14:48:50.555157Z",
     "start_time": "2021-08-28T14:48:50.519312Z"
    }
   },
   "outputs": [],
   "source": [
    "def plot_audio_graph(arqname, c='' ):\n",
    "    \"\"\"\n",
    "    Plot a graph based on a audio archive in the same folde of the Notebook. \n",
    "    \"\"\"\n",
    "    if c==None:\n",
    "        c=next(cmap)\n",
    "    with librosa.load(arqname) as file:\n",
    "        sd, sd_rate= file\n",
    "        n =len(sd)\n",
    "        T=1/sd_rate\n",
    "        plt.plot(np.linspace(0.0, len(sd)/sd_rate/32, int(len(sd)/32)), sd[:int(len(sd)/32)], c=c)\n",
    "        plt.xlabel('tempo (s)')\n",
    "        plt.ylabel('Amplitude')\n",
    "        plt.title(arqname[0:-4])\n",
    "        plt.show()\n",
    "    return sd, sd_rate\n",
    "\n",
    "def get_peaks( y, T,tol=0.01, dist=200):\n",
    "    \"\"\"\n",
    "    Find the peaks of a signal y with T period\n",
    "    \"\"\"\n",
    "    n=len(y)\n",
    "    \n",
    "    xf=np.linspace(0.0, 1.0/(T), int(n))\n",
    "    yf=fft(y)\n",
    "    intp=interp1d(xf,np.abs(yf), kind='quadratic')\n",
    "    \n",
    "    #xf=fftfreq(n, T)[:n//2]\n",
    "    xfr=xf[:int(len(yf)/10)]\n",
    "    yfr=intp(xfr)\n",
    "    \n",
    "    peaks, _ = find_peaks(yfr, height=yfr.max()*tol, distance=dist)\n",
    "    widths_s, heights, left, right= peak_widths(yfr, peaks, rel_height=0.5)\n",
    "    widths=  widths_s*(xfr[1]-xfr[0])\n",
    "    #imaxs=argrelextrema(yfr, np.greater)\n",
    "    result=[(a,b) for a,b in zip (xfr[peaks], widths/2.355) ]\n",
    "    \n",
    "    return result\n",
    "\n",
    "def erro_meiaaltura(x, y, tol=0.01, dist=200):\n",
    "    \"\"\"\n",
    "    Calculate half-height error\n",
    "    \"\"\"\n",
    "    peaks, _ = find_peaks(y, height=y.max()*tol, distance=dist)\n",
    "    widths_s, heights, left, right= peak_widths(y, peaks, rel_height=0.5)\n",
    "    widths=  widths_s*(x[1]-x[0])\n",
    "    #imaxs=argrelextrema(yfr, np.greater)\n",
    "    result=[(a,b) for a,b in zip (x[peaks], widths/2.355) ]\n",
    "    return result\n",
    "\n",
    "def plot_beauty_sins(wave, wave_rate, part=1/32):\n",
    "    \"\"\"\n",
    "    Plots harmonic functions with zoomed signal\n",
    "    \"\"\"\n",
    "    plt.plot(np.linspace(0.0, len(wave)/wave/32, int(len(wave)/32)), wave[:int(len(wave)/32)], c=c)\n",
    "    plt.set_xlabel('tempo (s)')\n",
    "    plt.set_ylabel('Amplitude')\n",
    "    \n",
    "def graph_as_png(**kwargs):\n",
    "    \"\"\"\n",
    "    decorator that saves graph as png\n",
    "    \"\"\"\n",
    "    def save_graph_as_png(func):\n",
    "        def wrapper():\n",
    "            func()\n",
    "            plt.savefig(**kwargs)\n",
    "            return\n",
    "        return wrapper\n",
    "    return save_graph_as_png"
   ]
  },
  {
   "cell_type": "code",
   "execution_count": null,
   "id": "881c7251",
   "metadata": {},
   "outputs": [],
   "source": []
  }
 ],
 "metadata": {
  "hide_input": false,
  "kernelspec": {
   "display_name": "Python 3",
   "language": "python",
   "name": "python3"
  },
  "language_info": {
   "codemirror_mode": {
    "name": "ipython",
    "version": 3
   },
   "file_extension": ".py",
   "mimetype": "text/x-python",
   "name": "python",
   "nbconvert_exporter": "python",
   "pygments_lexer": "ipython3",
   "version": "3.8.8"
  },
  "varInspector": {
   "cols": {
    "lenName": 16,
    "lenType": 16,
    "lenVar": 40
   },
   "kernels_config": {
    "python": {
     "delete_cmd_postfix": "",
     "delete_cmd_prefix": "del ",
     "library": "var_list.py",
     "varRefreshCmd": "print(var_dic_list())"
    },
    "r": {
     "delete_cmd_postfix": ") ",
     "delete_cmd_prefix": "rm(",
     "library": "var_list.r",
     "varRefreshCmd": "cat(var_dic_list()) "
    }
   },
   "types_to_exclude": [
    "module",
    "function",
    "builtin_function_or_method",
    "instance",
    "_Feature"
   ],
   "window_display": false
  }
 },
 "nbformat": 4,
 "nbformat_minor": 5
}
