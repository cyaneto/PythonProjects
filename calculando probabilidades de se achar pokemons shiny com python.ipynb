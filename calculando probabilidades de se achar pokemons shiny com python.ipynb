{
 "cells": [
  {
   "cell_type": "code",
   "execution_count": 8,
   "id": "69645e01",
   "metadata": {
    "ExecuteTime": {
     "end_time": "2021-08-25T16:43:04.840558Z",
     "start_time": "2021-08-25T16:43:03.072911Z"
    }
   },
   "outputs": [],
   "source": [
    "import numpy as np\n",
    "import matplotlib.pyplot as plt\n",
    "import math\n",
    "import seaborn as sns\n",
    "%matplotlib inline"
   ]
  },
  {
   "cell_type": "markdown",
   "id": "a8188631",
   "metadata": {},
   "source": [
    "### O quanto você precisa tentar para pegar um shiny?\n",
    "\n",
    "\n",
    "Quem joga pokemon sabe o quão dificil é pegar um pokemon shiny. As chances normais de conseguir um em um encontro aleatório nos ultimos jogos está proximo de 1/4096, e a maneira mais comum de conseguir seu shinizinho é ir tentando varios encontros aleatorios. A medida que a gente vai tentando e o shiny não aparece só sobra a frustração e o cansaço, e dai que me veio a ideia de testar quais eram as chances de encontrar meu shiny apos x encontros. \n",
    "\n",
    "Que é exatamente o que acontece aqui nesse codigo. Vamos usar python para aplicar a chamada \"estatistica de hacker\". "
   ]
  },
  {
   "cell_type": "markdown",
   "id": "54c853ec",
   "metadata": {},
   "source": [
    "#### As funções\n",
    "\n",
    "Para a nossa simulação vamos usar duas funções: uma que calcula a razão entre dois fatoriais, e outra para retornar a probabilidade de encontrar \"a\" shinies após \"t\" tentativas.\n",
    "Pode soa estranho fazer uma função apenas para retornar a razão entre dois fatoriais mas tem um motivo muito simples: fatoriais são numeros grandes, o que fazem as operações com os fatoriais por inteiro ficarem desnecessariamente demoradas. Por exemplo, o fatorial de 6000 tem 20066 digitos, enquanto o fatorial de 5999 tem 20062, a razão entre esses dois numeros é muito dificil de calcular pro computador, sendo que o numero é muito facil de calcular manualmente: 6000."
   ]
  },
  {
   "cell_type": "code",
   "execution_count": 4,
   "id": "6465f71a",
   "metadata": {
    "ExecuteTime": {
     "end_time": "2021-08-25T16:42:16.093127Z",
     "start_time": "2021-08-25T16:42:16.084129Z"
    }
   },
   "outputs": [],
   "source": [
    "def raz(n,d):\n",
    "    if n==d or n<d:\n",
    "        return 1\n",
    "    else:\n",
    "        return n*raz(n-1,d)\n",
    "    \n",
    "def p(a,t,prob=1/4096):\n",
    "    return prob**a*(1-prob)**(t-a)*raz(t,t-a)/math.factorial(a)"
   ]
  },
  {
   "cell_type": "markdown",
   "id": "31e7a532",
   "metadata": {},
   "source": [
    "Um comentario sobre essa função da razão entre os fatoriais: ela é recursiva. O que significa que ela retorna ela mesma até um ponto final, no nosso caso, quando os numeros batem. Por exemplo, se colocarmos os numeros 10 e 7, ela vai fazer 10 vezes a razão do fatorial de 9 com 7, que vai fazer  9 vezes razão entre o fatorial de 8 com 7, que vai fazer o 8 vezes razão entre o fatorial de 7 com 7, que é 1. E no final teremos $10 \\times 9 \\times 8$, que é exatamente a razão entre o fatorial de 10 e o fatorial de 7. Lindo né?"
   ]
  },
  {
   "cell_type": "markdown",
   "id": "d9e1249f",
   "metadata": {},
   "source": [
    "#### O algoritmo\n",
    "\n",
    "Aqui vamos aplicar as funções criadas. E é simples, fazer uma lista com as quantidades de tentativas (no nosso caso de 1 a 6000) e a quantidade maxima de shinies que queremos encontrar para se ter uma aproximação boa (o ideal seria o mesmo numero de tentativas, mas haja computador para fazer esse calculo para 6000! 10 é um numero que aproxima bem quando falamos de uma probabilidade 1/4096). Em seguida calculamos as probabilidaes para cada quantidade de tentativas, e para cada quantidade de maximo de shinies. Isso é simples de fazer, 2 \"for\"s e ta pronto. Depois é só plotar com a famosa matplotlib."
   ]
  },
  {
   "cell_type": "code",
   "execution_count": 9,
   "id": "5511c4e2",
   "metadata": {
    "ExecuteTime": {
     "end_time": "2021-08-25T16:47:35.471828Z",
     "start_time": "2021-08-25T16:47:34.802147Z"
    }
   },
   "outputs": [],
   "source": [
    "tentativas=6000\n",
    "nshinies=10\n",
    "X=np.linspace(1, tentativas, tentativas)\n",
    "Ptotal=np.zeros(tentativas)\n",
    "P=[]\n",
    "for j in np.linspace(1,nshinies, nshinies):\n",
    "    Pt=[]\n",
    "    k= 0\n",
    "    for i in X:\n",
    "        Pt.append(p(j,i))\n",
    "        Ptotal[k]+=p(j,i)\n",
    "        k+=1\n",
    "    P.append(Pt)"
   ]
  },
  {
   "cell_type": "code",
   "execution_count": 14,
   "id": "42e00c6c",
   "metadata": {
    "ExecuteTime": {
     "end_time": "2021-08-25T16:55:53.619623Z",
     "start_time": "2021-08-25T16:55:53.410296Z"
    }
   },
   "outputs": [
    {
     "data": {
      "text/plain": [
       "Text(0, 0.5, 'probabilidade de ter encontrado pelo menos um shiny (%)')"
      ]
     },
     "execution_count": 14,
     "metadata": {},
     "output_type": "execute_result"
    },
    {
     "data": {
      "image/png": "[encoded data removed]",
      "text/plain": [
       "<Figure size 432x432 with 1 Axes>"
      ]
     },
     "metadata": {
      "needs_background": "light"
     },
     "output_type": "display_data"
    }
   ],
   "source": [
    "fig, ax = plt.subplots(figsize=[6,6])\n",
    "plt.plot(X,100*Ptotal, label='total')\n",
    "plt.legend()\n",
    "plt.grid()\n",
    "plt.xlabel('numero de encontros')\n",
    "plt.ylabel('probabilidade de ter encontrado pelo menos um shiny (%)')"
   ]
  },
  {
   "cell_type": "markdown",
   "id": "a7565e03",
   "metadata": {},
   "source": [
    "Aqui vemos que pra se ter pra ter 50% de chance de se ter um shiny temos que tentar proximos 2800 encontros, então paciencia jovem pokemaniaco :)."
   ]
  }
 ],
 "metadata": {
  "hide_input": false,
  "kernelspec": {
   "display_name": "Python 3",
   "language": "python",
   "name": "python3"
  },
  "language_info": {
   "codemirror_mode": {
    "name": "ipython",
    "version": 3
   },
   "file_extension": ".py",
   "mimetype": "text/x-python",
   "name": "python",
   "nbconvert_exporter": "python",
   "pygments_lexer": "ipython3",
   "version": "3.8.8"
  },
  "varInspector": {
   "cols": {
    "lenName": 16,
    "lenType": 16,
    "lenVar": 40
   },
   "kernels_config": {
    "python": {
     "delete_cmd_postfix": "",
     "delete_cmd_prefix": "del ",
     "library": "var_list.py",
     "varRefreshCmd": "print(var_dic_list())"
    },
    "r": {
     "delete_cmd_postfix": ") ",
     "delete_cmd_prefix": "rm(",
     "library": "var_list.r",
     "varRefreshCmd": "cat(var_dic_list()) "
    }
   },
   "types_to_exclude": [
    "module",
    "function",
    "builtin_function_or_method",
    "instance",
    "_Feature"
   ],
   "window_display": false
  }
 },
 "nbformat": 4,
 "nbformat_minor": 5
}
